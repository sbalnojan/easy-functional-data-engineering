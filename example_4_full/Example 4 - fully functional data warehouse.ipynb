{
 "cells": [
  {
   "cell_type": "code",
   "execution_count": 23,
   "id": "0d6e5cac",
   "metadata": {
    "tags": [
     "hide-output"
    ]
   },
   "outputs": [
    {
     "name": "stdout",
     "output_type": "stream",
     "text": [
      "Requirement already satisfied: pandas in /opt/conda/lib/python3.9/site-packages (1.4.2)\n",
      "Requirement already satisfied: pytz>=2020.1 in /opt/conda/lib/python3.9/site-packages (from pandas) (2021.3)\n",
      "Requirement already satisfied: python-dateutil>=2.8.1 in /opt/conda/lib/python3.9/site-packages (from pandas) (2.8.2)\n",
      "Requirement already satisfied: numpy>=1.18.5 in /opt/conda/lib/python3.9/site-packages (from pandas) (1.22.3)\n",
      "Requirement already satisfied: six>=1.5 in /opt/conda/lib/python3.9/site-packages (from python-dateutil>=2.8.1->pandas) (1.16.0)\n"
     ]
    }
   ],
   "source": [
    "# Let's get our dependencies\n",
    "import sys\n",
    "!{sys.executable} -m pip install pandas\n",
    "import pandas as pd\n",
    "import shutil\n",
    "from datetime import datetime\n",
    "import random"
   ]
  },
  {
   "cell_type": "code",
   "execution_count": 27,
   "id": "e9f424f8",
   "metadata": {
    "tags": [
     "hide-output"
    ]
   },
   "outputs": [
    {
     "name": "stdout",
     "output_type": "stream",
     "text": [
      "===\n",
      " Here we can sneek a peak at the sales data for day 01\n",
      "   sales_date   quantity   revenue   user_id\n",
      "0  2022-01-01          1         5         1\n",
      "1  2022-01-01          2        10         2\n",
      "2  2022-01-01          4        20         3\n",
      "===\n",
      " And here's the user data\n",
      "   user_id   name     status\n",
      "0        1   sven    premium\n",
      "1        2   john   standard\n",
      "2        4    eve    premium\n"
     ]
    }
   ],
   "source": [
    "# ----------------------------------------------------------------------------------------------------------------\n",
    "# IGNORE THE CODE BLOCK BELOW IT MOCKS STUFF AND YOU'RE NOT SUPPOSED TO KNOW THAT :P\n",
    "# ...\n",
    "### THIS CODE IS are a replacement for EXTERNAL API'S. Assume this is actually an REST API or something like that...\n",
    "### that you might call to get data from...\n",
    "\n",
    "def get_source_A(day: str):\n",
    "    \"\"\"\n",
    "    I am a \"mostly\" stateless event driven API. I return events with an \"event_time\"...\n",
    "    \n",
    "    I return the \"sales\" data for a given day\n",
    "    \n",
    "    \"\"\"\n",
    "    return pd.read_csv(f\"source_data/sales_day_{day}.csv\")\n",
    "    \n",
    "def get_source_B():\n",
    "    \"\"\"\n",
    "    I am a mostly stateful API. I return the \"state\" as it is.\n",
    "    \n",
    "    I return the \"user\" data.\n",
    "    \"\"\"\n",
    "    return pd.read_csv(f\"source_data/users_v{random.randint(1,2)}.csv\")\n",
    "\n",
    "\n",
    "print(\"===\\n Here we can sneek a peak at the sales data for day 01\")\n",
    "print(get_source_A(\"01\"))\n",
    "print(\"===\\n And here's the user data\")\n",
    "print(get_source_B())"
   ]
  },
  {
   "cell_type": "markdown",
   "id": "e5dc4aeb",
   "metadata": {},
   "source": [
    "**Step 1**: As in every data warehouse, the step 1 is to get the data into the system, into some kind of \"staging area\". Since we're building a fully functional data warehouse here, our \"staging area\" is going to be immutable, or persitent. \n",
    "\n",
    "To do so we:\n",
    "\n",
    "1. Call the source_A once a day, and put the results into a file called \"sales_A.csv\". We add a column for the \"event processing time\" to make sure we are able to replay the ingestion (which is just a simple select on that column). \n",
    "2. Call the source_B once a day, and snapshot the whole raw data into files \"users_dayXYZ.csv\"."
   ]
  },
  {
   "cell_type": "code",
   "execution_count": 35,
   "id": "e6bf7d85",
   "metadata": {},
   "outputs": [],
   "source": [
    "# ----------------------------------------------------------------------------------------------------------------\n",
    "# Data Ingestion Code\n",
    "# API Data => Immutable Staging Area\n",
    "def stage_source_A(today: str):\n",
    "    data = get_source_A(today)\n",
    "    dt = datetime.now()\n",
    "    event_processing_time = datetime.timestamp(dt)\n",
    "    data[\"event_proc_time\"] = event_processing_time\n",
    "    target_file = f'{event_processing_time}_data.csv'\n",
    "    data.to_csv(target_file, index=False)\n",
    "\n",
    "stage_source_A(\"01\")    \n",
    "    "
   ]
  }
 ],
 "metadata": {
  "celltoolbar": "Tags",
  "kernelspec": {
   "display_name": "Python 3 (ipykernel)",
   "language": "python",
   "name": "python3"
  },
  "language_info": {
   "codemirror_mode": {
    "name": "ipython",
    "version": 3
   },
   "file_extension": ".py",
   "mimetype": "text/x-python",
   "name": "python",
   "nbconvert_exporter": "python",
   "pygments_lexer": "ipython3",
   "version": "3.9.7"
  }
 },
 "nbformat": 4,
 "nbformat_minor": 5
}
