{
 "cells": [
  {
   "cell_type": "markdown",
   "id": "6b366996",
   "metadata": {},
   "source": [
    "# Easy Functional Data Engineering Examples - Encapsulating changing logic into data"
   ]
  },
  {
   "cell_type": "code",
   "execution_count": 1,
   "id": "e358846a",
   "metadata": {},
   "outputs": [
    {
     "name": "stdout",
     "output_type": "stream",
     "text": [
      "Requirement already satisfied: pandas in /opt/conda/lib/python3.9/site-packages (1.4.2)\r\n",
      "Requirement already satisfied: numpy>=1.18.5 in /opt/conda/lib/python3.9/site-packages (from pandas) (1.22.3)\r\n",
      "Requirement already satisfied: pytz>=2020.1 in /opt/conda/lib/python3.9/site-packages (from pandas) (2021.3)\r\n",
      "Requirement already satisfied: python-dateutil>=2.8.1 in /opt/conda/lib/python3.9/site-packages (from pandas) (2.8.2)\r\n",
      "Requirement already satisfied: six>=1.5 in /opt/conda/lib/python3.9/site-packages (from python-dateutil>=2.8.1->pandas) (1.16.0)\r\n"
     ]
    }
   ],
   "source": [
    "# Let's get our dependencies\n",
    "import sys\n",
    "!{sys.executable} -m pip install pandas\n",
    "import pandas as pd\n",
    "import sqlite3\n",
    "import shutil\n",
    "from datetime import datetime\n",
    "\n",
    "# some constants\n",
    "DATA_FILE_PATH=\"data_2.csv\"\n"
   ]
  },
  {
   "cell_type": "code",
   "execution_count": 3,
   "id": "0a0484bf",
   "metadata": {},
   "outputs": [
    {
     "name": "stdout",
     "output_type": "stream",
     "text": [
      "This is our dataframe...\n",
      "    revenue  B  C   time\n",
      "0        1  2  a  01-01\n",
      "1        3  4  b  01-02\n",
      "2        5  6  a  01-03\n"
     ]
    }
   ],
   "source": [
    "df = pd.read_csv(DATA_FILE_PATH)\n",
    "print(\"This is our dataframe...\\n\", df.head(5))"
   ]
  },
  {
   "cell_type": "markdown",
   "id": "e3261815",
   "metadata": {},
   "source": [
    "## Task 2"
   ]
  },
  {
   "cell_type": "markdown",
   "id": "e54c613f",
   "metadata": {},
   "source": [
    "**Data Engineering Task:** Alright, the task is simple, calculate the revenue for \"a\". And calculate the tax portion of it. Tax rate is 20% for 01-01 to 01-02 and 30% for 01-03. Let's do a naive version of this."
   ]
  },
  {
   "cell_type": "code",
   "execution_count": 18,
   "id": "c1ea045e",
   "metadata": {},
   "outputs": [],
   "source": [
    "df=pd.read_csv(DATA_FILE_PATH)\n",
    "df.set_index('time')\n",
    "# Calculating tax:\n",
    "df = df.reset_index()  # make sure indexes pair with number of rows\n",
    "\n",
    "def calc_taxes(df):\n",
    "    for index, row in df.iterrows():\n",
    "        if row['time'] == \"01-03\":\n",
    "            df.at[index,'tax_portion'] = row['revenue']*0.3\n",
    "        else:\n",
    "            df.at[index,'tax_portion'] = row['revenue']*0.2\n",
    "    return df\n",
    "\n",
    "df = calc_taxes(df)"
   ]
  },
  {
   "cell_type": "code",
   "execution_count": 20,
   "id": "cb72deb8",
   "metadata": {},
   "outputs": [
    {
     "data": {
      "text/html": [
       "<div>\n",
       "<style scoped>\n",
       "    .dataframe tbody tr th:only-of-type {\n",
       "        vertical-align: middle;\n",
       "    }\n",
       "\n",
       "    .dataframe tbody tr th {\n",
       "        vertical-align: top;\n",
       "    }\n",
       "\n",
       "    .dataframe thead th {\n",
       "        text-align: right;\n",
       "    }\n",
       "</style>\n",
       "<table border=\"1\" class=\"dataframe\">\n",
       "  <thead>\n",
       "    <tr style=\"text-align: right;\">\n",
       "      <th></th>\n",
       "      <th>index</th>\n",
       "      <th>revenue</th>\n",
       "      <th>B</th>\n",
       "      <th>C</th>\n",
       "      <th>time</th>\n",
       "      <th>tax_portion</th>\n",
       "    </tr>\n",
       "  </thead>\n",
       "  <tbody>\n",
       "    <tr>\n",
       "      <th>0</th>\n",
       "      <td>0</td>\n",
       "      <td>1</td>\n",
       "      <td>2</td>\n",
       "      <td>a</td>\n",
       "      <td>01-01</td>\n",
       "      <td>0.2</td>\n",
       "    </tr>\n",
       "    <tr>\n",
       "      <th>1</th>\n",
       "      <td>1</td>\n",
       "      <td>3</td>\n",
       "      <td>4</td>\n",
       "      <td>b</td>\n",
       "      <td>01-02</td>\n",
       "      <td>0.6</td>\n",
       "    </tr>\n",
       "    <tr>\n",
       "      <th>2</th>\n",
       "      <td>2</td>\n",
       "      <td>5</td>\n",
       "      <td>6</td>\n",
       "      <td>a</td>\n",
       "      <td>01-03</td>\n",
       "      <td>1.5</td>\n",
       "    </tr>\n",
       "  </tbody>\n",
       "</table>\n",
       "</div>"
      ],
      "text/plain": [
       "   index  revenue  B  C   time  tax_portion\n",
       "0      0        1  2  a  01-01          0.2\n",
       "1      1        3  4  b  01-02          0.6\n",
       "2      2        5  6  a  01-03          1.5"
      ]
     },
     "execution_count": 20,
     "metadata": {},
     "output_type": "execute_result"
    }
   ],
   "source": [
    "df"
   ]
  },
  {
   "cell_type": "markdown",
   "id": "6665c168",
   "metadata": {},
   "source": [
    "So what is the problem?\n",
    "\n",
    "What happens, when the tax rate is set to 0.25 beginning 01-04? Then this function will not return the same values given the same inputs (right now, it would set the tax rate to 0.2 for 01-04).\n",
    "\n",
    "The solution? We take changing business logic out of the function and cement it into immutable data. Let us see who that works."
   ]
  },
  {
   "cell_type": "markdown",
   "id": "bf86126a",
   "metadata": {},
   "source": [
    "#### Pure functions future-proof through extraction of possibly mutable pieces"
   ]
  },
  {
   "cell_type": "code",
   "execution_count": 34,
   "id": "fbf473bb",
   "metadata": {},
   "outputs": [
    {
     "data": {
      "text/html": [
       "<div>\n",
       "<style scoped>\n",
       "    .dataframe tbody tr th:only-of-type {\n",
       "        vertical-align: middle;\n",
       "    }\n",
       "\n",
       "    .dataframe tbody tr th {\n",
       "        vertical-align: top;\n",
       "    }\n",
       "\n",
       "    .dataframe thead th {\n",
       "        text-align: right;\n",
       "    }\n",
       "</style>\n",
       "<table border=\"1\" class=\"dataframe\">\n",
       "  <thead>\n",
       "    <tr style=\"text-align: right;\">\n",
       "      <th></th>\n",
       "      <th>tax_rate</th>\n",
       "    </tr>\n",
       "    <tr>\n",
       "      <th>time</th>\n",
       "      <th></th>\n",
       "    </tr>\n",
       "  </thead>\n",
       "  <tbody>\n",
       "    <tr>\n",
       "      <th>01-01</th>\n",
       "      <td>0.2</td>\n",
       "    </tr>\n",
       "    <tr>\n",
       "      <th>01-02</th>\n",
       "      <td>0.2</td>\n",
       "    </tr>\n",
       "    <tr>\n",
       "      <th>01-03</th>\n",
       "      <td>0.3</td>\n",
       "    </tr>\n",
       "  </tbody>\n",
       "</table>\n",
       "</div>"
      ],
      "text/plain": [
       "       tax_rate\n",
       "time           \n",
       "01-01       0.2\n",
       "01-02       0.2\n",
       "01-03       0.3"
      ]
     },
     "execution_count": 34,
     "metadata": {},
     "output_type": "execute_result"
    }
   ],
   "source": [
    "df=pd.read_csv(DATA_FILE_PATH)\n",
    "df.set_index('time')\n",
    "# Calculating tax:\n",
    "\n",
    "df = df.reset_index()  # make sure indexes pair with number of rows\n",
    "\n",
    "tax_rates = pd.DataFrame({'time': ['01-01','01-02','01-03'],\n",
    "                   'tax_rate': [0.2,0.2,0.3]})\n",
    "\n",
    "tax_rates.set_index('time')\n",
    "\n",
    "# So now we encapsulated the business logic. We can easily add/exchange that... Let's continue!"
   ]
  },
  {
   "cell_type": "code",
   "execution_count": 35,
   "id": "86457be1",
   "metadata": {},
   "outputs": [
    {
     "data": {
      "text/html": [
       "<div>\n",
       "<style scoped>\n",
       "    .dataframe tbody tr th:only-of-type {\n",
       "        vertical-align: middle;\n",
       "    }\n",
       "\n",
       "    .dataframe tbody tr th {\n",
       "        vertical-align: top;\n",
       "    }\n",
       "\n",
       "    .dataframe thead th {\n",
       "        text-align: right;\n",
       "    }\n",
       "</style>\n",
       "<table border=\"1\" class=\"dataframe\">\n",
       "  <thead>\n",
       "    <tr style=\"text-align: right;\">\n",
       "      <th></th>\n",
       "      <th>index</th>\n",
       "      <th>revenue</th>\n",
       "      <th>B</th>\n",
       "      <th>C</th>\n",
       "      <th>time</th>\n",
       "      <th>tax_rate</th>\n",
       "      <th>tax_portion</th>\n",
       "    </tr>\n",
       "  </thead>\n",
       "  <tbody>\n",
       "    <tr>\n",
       "      <th>0</th>\n",
       "      <td>0</td>\n",
       "      <td>1</td>\n",
       "      <td>2</td>\n",
       "      <td>a</td>\n",
       "      <td>01-01</td>\n",
       "      <td>0.2</td>\n",
       "      <td>0.2</td>\n",
       "    </tr>\n",
       "    <tr>\n",
       "      <th>1</th>\n",
       "      <td>1</td>\n",
       "      <td>3</td>\n",
       "      <td>4</td>\n",
       "      <td>b</td>\n",
       "      <td>01-02</td>\n",
       "      <td>0.2</td>\n",
       "      <td>0.6</td>\n",
       "    </tr>\n",
       "    <tr>\n",
       "      <th>2</th>\n",
       "      <td>2</td>\n",
       "      <td>5</td>\n",
       "      <td>6</td>\n",
       "      <td>a</td>\n",
       "      <td>01-03</td>\n",
       "      <td>0.3</td>\n",
       "      <td>1.5</td>\n",
       "    </tr>\n",
       "  </tbody>\n",
       "</table>\n",
       "</div>"
      ],
      "text/plain": [
       "   index  revenue  B  C   time  tax_rate  tax_portion\n",
       "0      0        1  2  a  01-01       0.2          0.2\n",
       "1      1        3  4  b  01-02       0.2          0.6\n",
       "2      2        5  6  a  01-03       0.3          1.5"
      ]
     },
     "execution_count": 35,
     "metadata": {},
     "output_type": "execute_result"
    }
   ],
   "source": [
    "def calc_taxes(df, tax_rates):\n",
    "    new_df = pd.merge(df,tax_rates, on='time')\n",
    "    new_df['tax_portion']=new_df['revenue'] * new_df['tax_rate']\n",
    "    return new_df\n",
    "\n",
    "calc_taxes(df, tax_rates)"
   ]
  },
  {
   "cell_type": "markdown",
   "id": "5f497267",
   "metadata": {},
   "source": [
    "***Why is this much better than before?** We used the tax_rates as input here, so no side effects, we're able to test the function (which we also could do before) but we've made it pure such that we can easily change the tax_rates in the future, without messing with the pureness of the function (the function above wasn't pure and did not allow to recompute old analyses). So the function is now...\n",
    "\n",
    "1. future-proved it (possibly variable parts are not part of the function any more)\n",
    "2. Pure, in the way that you're able to recalculate old analyses just based on the inputs.\n",
    "3. The complexity of the hole is much lower due to this decoupling.\n",
    "4. The changing business logic can be made public! Before, it would be hard to an enduser to see how the tax portion is calculated, but now, you can simply display the always accurate \"business logic\" behind that.\n"
   ]
  },
  {
   "cell_type": "markdown",
   "id": "738fda52",
   "metadata": {},
   "source": [
    "## Doing this in other tools\n",
    "Nothing of the functional data engineering approach should be limited to Python or \"functions\" per se. If you got a \n",
    "dbt instance running, and you have changing CASE SQL statements, you can do the very same thing and \n",
    "encapsulate your changing business logic into \"dbt seeds\", and this way making your dbt tasks functional as well.\n",
    "\n",
    "Note: This will additionally require to \"log the inputs\", which might mean you want to snapshot your seed data to \n",
    "    make sure you know which input was present at what time. "
   ]
  }
 ],
 "metadata": {
  "kernelspec": {
   "display_name": "Python 3 (ipykernel)",
   "language": "python",
   "name": "python3"
  },
  "language_info": {
   "codemirror_mode": {
    "name": "ipython",
    "version": 3
   },
   "file_extension": ".py",
   "mimetype": "text/x-python",
   "name": "python",
   "nbconvert_exporter": "python",
   "pygments_lexer": "ipython3",
   "version": "3.9.7"
  }
 },
 "nbformat": 4,
 "nbformat_minor": 5
}
