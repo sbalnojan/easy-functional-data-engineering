{
 "cells": [
  {
   "cell_type": "markdown",
   "id": "2a348a8d",
   "metadata": {},
   "source": [
    "### Example 5 - Ingesting data & idempotency ###"
   ]
  },
  {
   "cell_type": "markdown",
   "id": "0abbc59d",
   "metadata": {},
   "source": [
    "This is (another) simple way of making most of your function calls idempotent which makes them waaaay easier and much more fun.\n",
    "\n",
    "All of the I/O stuff is much harder in that way, and usually requires you to break the functional paradigm. Here is a simple example of having something that's still idempotent by applying a little trick:\n",
    "\n",
    "1. If we haven't ingested given an input, then we ingest data.\n",
    "2. If we already have ingested, given an input, then we simply return the previous output.\n",
    "\n",
    "So basically, we define the output as whatever was returned the first time => making this mostly idempotent & pure.\n",
    "\n",
    "*After doing some coding we will see why this is cool and what about \"late arriving facts\"....*\n",
    "\n",
    "**Problem**: Ingest data.csv"
   ]
  },
  {
   "cell_type": "code",
   "execution_count": 2,
   "id": "4afce129",
   "metadata": {},
   "outputs": [
    {
     "name": "stdout",
     "output_type": "stream",
     "text": [
      "Collecting pandas\n",
      "  Downloading pandas-1.4.2-cp39-cp39-manylinux_2_17_x86_64.manylinux2014_x86_64.whl (11.7 MB)\n",
      "     |████████████████████████████████| 11.7 MB 3.8 MB/s            \n",
      "\u001b[?25hCollecting numpy>=1.18.5\n",
      "  Downloading numpy-1.22.3-cp39-cp39-manylinux_2_17_x86_64.manylinux2014_x86_64.whl (16.8 MB)\n",
      "     |████████████████████████████████| 16.8 MB 3.2 MB/s            \n",
      "\u001b[?25hRequirement already satisfied: pytz>=2020.1 in /opt/conda/lib/python3.9/site-packages (from pandas) (2021.3)\n",
      "Requirement already satisfied: python-dateutil>=2.8.1 in /opt/conda/lib/python3.9/site-packages (from pandas) (2.8.2)\n",
      "Requirement already satisfied: six>=1.5 in /opt/conda/lib/python3.9/site-packages (from python-dateutil>=2.8.1->pandas) (1.16.0)\n",
      "Installing collected packages: numpy, pandas\n",
      "Successfully installed numpy-1.22.3 pandas-1.4.2\n"
     ]
    }
   ],
   "source": [
    "import sys\n",
    "!{sys.executable} -m pip install pandas\n",
    "import pandas as pd"
   ]
  },
  {
   "cell_type": "code",
   "execution_count": 3,
   "id": "2acd7d1b",
   "metadata": {},
   "outputs": [],
   "source": [
    "def data_ingestion(partition_day: str) -> str:\n",
    "    \"\"\"\n",
    "    Takes as input the partition day and returns the file name of the given partition.\n",
    "    \"\"\"\n",
    "    \n",
    "    \n",
    "    data = pd.read_csv(\"data.csv\")\n",
    "    "
   ]
  },
  {
   "cell_type": "markdown",
   "id": "e4b8a99f",
   "metadata": {},
   "source": [
    "Let's see why this is idempotent\n",
    "\n",
    "And why we can recompute stuff with it\n",
    "\n",
    "WHat about late arriving facts? That's easy, they get ingested the next day and land in a new partition. \n",
    "\n",
    "Using the time we're still going to end up able to do pruning..."
   ]
  }
 ],
 "metadata": {
  "kernelspec": {
   "display_name": "Python 3 (ipykernel)",
   "language": "python",
   "name": "python3"
  },
  "language_info": {
   "codemirror_mode": {
    "name": "ipython",
    "version": 3
   },
   "file_extension": ".py",
   "mimetype": "text/x-python",
   "name": "python",
   "nbconvert_exporter": "python",
   "pygments_lexer": "ipython3",
   "version": "3.9.7"
  }
 },
 "nbformat": 4,
 "nbformat_minor": 5
}
