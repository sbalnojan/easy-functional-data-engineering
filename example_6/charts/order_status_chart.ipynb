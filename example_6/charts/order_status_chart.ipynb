{
 "cells": [
  {
   "cell_type": "markdown",
   "id": "4cc12f50-adb9-418d-841a-01854494bc0c",
   "metadata": {},
   "source": [
    "## Sales Dashboard"
   ]
  },
  {
   "cell_type": "markdown",
   "id": "880955ee-b4c1-416c-9ff5-05d3ac5638fc",
   "metadata": {},
   "source": [
    "Below is just some code, this dashboard displays\n",
    "- the revenue\n",
    "- for the two customer \"status\" types \"standard\" and \"premium\"\n",
    "- per day"
   ]
  },
  {
   "cell_type": "code",
   "execution_count": 1,
   "id": "89a6b79f-210b-4147-aee6-203887324678",
   "metadata": {
    "tags": []
   },
   "outputs": [],
   "source": [
    "import pandas as pd\n",
    "\n",
    "def get_todays_date():\n",
    "    \"\"\" NO NEED TO UNDERSTAND THIS FUNCTION, IT'S JUST A UTILITY FOR LATER...\n",
    "    The \"day\" is saved to a file, this function returns the day \n",
    "    e.g. \"day-1\", \"day-2\",...\"\"\"\n",
    "    dag_path = os.getcwd()\n",
    "    date_file = open(\"raw_data/current_day.txt\", \"r\")\n",
    "    return date_file.readline().strip()"
   ]
  },
  {
   "cell_type": "code",
   "execution_count": 2,
   "id": "593c6ee7-d467-490c-9b6d-6f85fd568a99",
   "metadata": {
    "tags": []
   },
   "outputs": [],
   "source": [
    "# Read sales data\n",
    "sales = pd.read_csv(\"processed_data/agg_sales.csv\", header=0)"
   ]
  },
  {
   "cell_type": "code",
   "execution_count": 5,
   "id": "dc70307a-0f72-45f9-9079-741bf64fdc34",
   "metadata": {
    "tags": []
   },
   "outputs": [
    {
     "data": {
      "text/html": [
       "<div>\n",
       "<style scoped>\n",
       "    .dataframe tbody tr th:only-of-type {\n",
       "        vertical-align: middle;\n",
       "    }\n",
       "\n",
       "    .dataframe tbody tr th {\n",
       "        vertical-align: top;\n",
       "    }\n",
       "\n",
       "    .dataframe thead th {\n",
       "        text-align: right;\n",
       "    }\n",
       "</style>\n",
       "<table border=\"1\" class=\"dataframe\">\n",
       "  <thead>\n",
       "    <tr style=\"text-align: right;\">\n",
       "      <th></th>\n",
       "      <th>Unnamed: 0</th>\n",
       "      <th>sales_date</th>\n",
       "      <th>status</th>\n",
       "      <th>quantity</th>\n",
       "      <th>revenue</th>\n",
       "      <th>user_id</th>\n",
       "    </tr>\n",
       "  </thead>\n",
       "  <tbody>\n",
       "    <tr>\n",
       "      <th>0</th>\n",
       "      <td>0</td>\n",
       "      <td>2022-01-00</td>\n",
       "      <td>premium</td>\n",
       "      <td>4</td>\n",
       "      <td>1</td>\n",
       "      <td>3</td>\n",
       "    </tr>\n",
       "    <tr>\n",
       "      <th>1</th>\n",
       "      <td>1</td>\n",
       "      <td>2022-01-00</td>\n",
       "      <td>standard</td>\n",
       "      <td>3</td>\n",
       "      <td>7</td>\n",
       "      <td>3</td>\n",
       "    </tr>\n",
       "    <tr>\n",
       "      <th>2</th>\n",
       "      <td>2</td>\n",
       "      <td>2022-01-01</td>\n",
       "      <td>premium</td>\n",
       "      <td>4</td>\n",
       "      <td>11</td>\n",
       "      <td>3</td>\n",
       "    </tr>\n",
       "    <tr>\n",
       "      <th>3</th>\n",
       "      <td>3</td>\n",
       "      <td>2022-01-01</td>\n",
       "      <td>standard</td>\n",
       "      <td>3</td>\n",
       "      <td>25</td>\n",
       "      <td>3</td>\n",
       "    </tr>\n",
       "  </tbody>\n",
       "</table>\n",
       "</div>"
      ],
      "text/plain": [
       "   Unnamed: 0  sales_date     status  quantity  revenue  user_id\n",
       "0           0  2022-01-00    premium         4        1        3\n",
       "1           1  2022-01-00   standard         3        7        3\n",
       "2           2  2022-01-01    premium         4       11        3\n",
       "3           3  2022-01-01   standard         3       25        3"
      ]
     },
     "execution_count": 5,
     "metadata": {},
     "output_type": "execute_result"
    }
   ],
   "source": [
    "sales"
   ]
  },
  {
   "cell_type": "code",
   "execution_count": 3,
   "id": "b874cb87-144c-4194-9507-e7e14f935901",
   "metadata": {
    "tags": []
   },
   "outputs": [],
   "source": [
    "# Filter for each status\n",
    "premium_sales = sales[sales['status'].str.contains(\"premium\")][[\"revenue\",\"sales_date\"]]\n",
    "std_sales = sales[sales['status'].str.contains(\"standard\")][[\"revenue\",\"sales_date\"]]"
   ]
  },
  {
   "cell_type": "markdown",
   "id": "c45701e5-8663-48a0-b2b8-9fb9f213f70c",
   "metadata": {},
   "source": [
    "## Main Dashboard"
   ]
  },
  {
   "cell_type": "code",
   "execution_count": 4,
   "id": "fd39c5ee-0530-49da-b7c2-69fa02f75deb",
   "metadata": {
    "tags": []
   },
   "outputs": [
    {
     "data": {
      "text/plain": [
       "<Axes: xlabel='sales_date'>"
      ]
     },
     "execution_count": 4,
     "metadata": {},
     "output_type": "execute_result"
    },
    {
     "data": {
      "image/png": "[encoded data removed]",
      "text/plain": [
       "<Figure size 640x480 with 1 Axes>"
      ]
     },
     "metadata": {},
     "output_type": "display_data"
    }
   ],
   "source": [
    "# Plot using pandas wrapper\n",
    "plot_df=std_sales.merge(premium_sales, on=\"sales_date\", how=\"left\", suffixes=('_standard','_premium'))\n",
    "plot_df.plot.line(x=\"sales_date\")"
   ]
  }
 ],
 "metadata": {
  "kernelspec": {
   "display_name": "Python 3 (ipykernel)",
   "language": "python",
   "name": "python3"
  },
  "language_info": {
   "codemirror_mode": {
    "name": "ipython",
    "version": 3
   },
   "file_extension": ".py",
   "mimetype": "text/x-python",
   "name": "python",
   "nbconvert_exporter": "python",
   "pygments_lexer": "ipython3",
   "version": "3.10.9"
  }
 },
 "nbformat": 4,
 "nbformat_minor": 5
}
