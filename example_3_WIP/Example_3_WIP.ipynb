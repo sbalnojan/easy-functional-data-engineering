{
 "cells": [
  {
   "cell_type": "markdown",
   "id": "6b366996",
   "metadata": {},
   "source": [
    "# Easy Functional Data Engineering Examples - A DAG of partitions"
   ]
  },
  {
   "cell_type": "code",
   "execution_count": 13,
   "id": "e358846a",
   "metadata": {},
   "outputs": [
    {
     "name": "stdout",
     "output_type": "stream",
     "text": [
      "Requirement already satisfied: pandas in /opt/conda/lib/python3.9/site-packages (1.4.2)\n",
      "Requirement already satisfied: pytz>=2020.1 in /opt/conda/lib/python3.9/site-packages (from pandas) (2021.3)\n",
      "Requirement already satisfied: python-dateutil>=2.8.1 in /opt/conda/lib/python3.9/site-packages (from pandas) (2.8.2)\n",
      "Requirement already satisfied: numpy>=1.18.5 in /opt/conda/lib/python3.9/site-packages (from pandas) (1.22.3)\n",
      "Requirement already satisfied: six>=1.5 in /opt/conda/lib/python3.9/site-packages (from python-dateutil>=2.8.1->pandas) (1.16.0)\n"
     ]
    }
   ],
   "source": [
    "# Let's get our dependencies\n",
    "import sys, os\n",
    "!{sys.executable} -m pip install pandas\n",
    "import pandas as pd\n",
    "import sqlite3\n",
    "import shutil\n",
    "from datetime import datetime\n",
    "\n",
    "# some constants\n",
    "DATA_FILE_PATH_1=\"data_01_01.csv\"\n",
    "DATA_FILE_PATH_2=\"data_01_02.csv\"\n",
    "STAGING_AREA=\"staging.csv\""
   ]
  },
  {
   "cell_type": "code",
   "execution_count": 3,
   "id": "0a0484bf",
   "metadata": {},
   "outputs": [
    {
     "name": "stdout",
     "output_type": "stream",
     "text": [
      "This is our dataframe...from day 01_01: \n",
      "    Value type\n",
      "0      1    a\n",
      "1      2    b\n",
      "2      3    c\n"
     ]
    }
   ],
   "source": [
    "df = pd.read_csv(DATA_FILE_PATH_1)\n",
    "print(\"This is our dataframe...from day 01_01: \\n\", df.head(5))"
   ]
  },
  {
   "cell_type": "markdown",
   "id": "e3261815",
   "metadata": {},
   "source": [
    "**Day 1**: We're dumping this data into our \"staging area\" which we have in a file called \"staging.csv\" and then we process it further. Think of this as moving stuff from an external source to our data domain."
   ]
  },
  {
   "cell_type": "code",
   "execution_count": 6,
   "id": "8da62a29",
   "metadata": {},
   "outputs": [],
   "source": [
    "df.to_csv(STAGING_AREA)"
   ]
  },
  {
   "cell_type": "markdown",
   "id": "e54c613f",
   "metadata": {},
   "source": [
    "Next, we're taking our staging area and aggregate (by summing) by \"a\" and by \"b\". "
   ]
  },
  {
   "cell_type": "code",
   "execution_count": 8,
   "id": "c1ea045e",
   "metadata": {},
   "outputs": [
    {
     "data": {
      "text/html": [
       "<div>\n",
       "<style scoped>\n",
       "    .dataframe tbody tr th:only-of-type {\n",
       "        vertical-align: middle;\n",
       "    }\n",
       "\n",
       "    .dataframe tbody tr th {\n",
       "        vertical-align: top;\n",
       "    }\n",
       "\n",
       "    .dataframe thead th {\n",
       "        text-align: right;\n",
       "    }\n",
       "</style>\n",
       "<table border=\"1\" class=\"dataframe\">\n",
       "  <thead>\n",
       "    <tr style=\"text-align: right;\">\n",
       "      <th></th>\n",
       "      <th>Unnamed: 0</th>\n",
       "      <th>Value</th>\n",
       "      <th>type</th>\n",
       "    </tr>\n",
       "  </thead>\n",
       "  <tbody>\n",
       "    <tr>\n",
       "      <th>0</th>\n",
       "      <td>0</td>\n",
       "      <td>1</td>\n",
       "      <td>a</td>\n",
       "    </tr>\n",
       "    <tr>\n",
       "      <th>1</th>\n",
       "      <td>1</td>\n",
       "      <td>2</td>\n",
       "      <td>b</td>\n",
       "    </tr>\n",
       "    <tr>\n",
       "      <th>2</th>\n",
       "      <td>2</td>\n",
       "      <td>3</td>\n",
       "      <td>c</td>\n",
       "    </tr>\n",
       "  </tbody>\n",
       "</table>\n",
       "</div>"
      ],
      "text/plain": [
       "   Unnamed: 0  Value type\n",
       "0           0      1    a\n",
       "1           1      2    b\n",
       "2           2      3    c"
      ]
     },
     "execution_count": 8,
     "metadata": {},
     "output_type": "execute_result"
    }
   ],
   "source": [
    "df=pd.read_csv(STAGING_AREA)\n",
    "df"
   ]
  },
  {
   "cell_type": "code",
   "execution_count": 9,
   "id": "cb72deb8",
   "metadata": {},
   "outputs": [
    {
     "data": {
      "text/html": [
       "<div>\n",
       "<style scoped>\n",
       "    .dataframe tbody tr th:only-of-type {\n",
       "        vertical-align: middle;\n",
       "    }\n",
       "\n",
       "    .dataframe tbody tr th {\n",
       "        vertical-align: top;\n",
       "    }\n",
       "\n",
       "    .dataframe thead th {\n",
       "        text-align: right;\n",
       "    }\n",
       "</style>\n",
       "<table border=\"1\" class=\"dataframe\">\n",
       "  <thead>\n",
       "    <tr style=\"text-align: right;\">\n",
       "      <th></th>\n",
       "      <th>Unnamed: 0</th>\n",
       "      <th>Value</th>\n",
       "    </tr>\n",
       "    <tr>\n",
       "      <th>type</th>\n",
       "      <th></th>\n",
       "      <th></th>\n",
       "    </tr>\n",
       "  </thead>\n",
       "  <tbody>\n",
       "    <tr>\n",
       "      <th>a</th>\n",
       "      <td>0</td>\n",
       "      <td>1</td>\n",
       "    </tr>\n",
       "    <tr>\n",
       "      <th>b</th>\n",
       "      <td>1</td>\n",
       "      <td>2</td>\n",
       "    </tr>\n",
       "    <tr>\n",
       "      <th>c</th>\n",
       "      <td>2</td>\n",
       "      <td>3</td>\n",
       "    </tr>\n",
       "  </tbody>\n",
       "</table>\n",
       "</div>"
      ],
      "text/plain": [
       "      Unnamed: 0  Value\n",
       "type                   \n",
       "a              0      1\n",
       "b              1      2\n",
       "c              2      3"
      ]
     },
     "execution_count": 9,
     "metadata": {},
     "output_type": "execute_result"
    }
   ],
   "source": [
    "df.groupby('type').sum()"
   ]
  },
  {
   "cell_type": "markdown",
   "id": "6665c168",
   "metadata": {},
   "source": [
    "**Day 2**: Perfect, so now it's day 2; Let's add more data to our staging area and calculate our aggregations again..."
   ]
  },
  {
   "cell_type": "code",
   "execution_count": 11,
   "id": "07637b7c",
   "metadata": {},
   "outputs": [],
   "source": [
    "df = pd.read_csv(DATA_FILE_PATH_2)\n",
    "df.to_csv(STAGING_AREA, mode=\"a\", header=\"False\")"
   ]
  },
  {
   "cell_type": "markdown",
   "id": "bf86126a",
   "metadata": {},
   "source": [
    "Now let's group again"
   ]
  },
  {
   "cell_type": "code",
   "execution_count": 12,
   "id": "fbf473bb",
   "metadata": {},
   "outputs": [
    {
     "data": {
      "text/html": [
       "<div>\n",
       "<style scoped>\n",
       "    .dataframe tbody tr th:only-of-type {\n",
       "        vertical-align: middle;\n",
       "    }\n",
       "\n",
       "    .dataframe tbody tr th {\n",
       "        vertical-align: top;\n",
       "    }\n",
       "\n",
       "    .dataframe thead th {\n",
       "        text-align: right;\n",
       "    }\n",
       "</style>\n",
       "<table border=\"1\" class=\"dataframe\">\n",
       "  <thead>\n",
       "    <tr style=\"text-align: right;\">\n",
       "      <th></th>\n",
       "      <th>Unnamed: 0</th>\n",
       "      <th>Value</th>\n",
       "    </tr>\n",
       "    <tr>\n",
       "      <th>type</th>\n",
       "      <th></th>\n",
       "      <th></th>\n",
       "    </tr>\n",
       "  </thead>\n",
       "  <tbody>\n",
       "    <tr>\n",
       "      <th>a</th>\n",
       "      <td>0</td>\n",
       "      <td>4</td>\n",
       "    </tr>\n",
       "    <tr>\n",
       "      <th>b</th>\n",
       "      <td>2</td>\n",
       "      <td>6</td>\n",
       "    </tr>\n",
       "    <tr>\n",
       "      <th>c</th>\n",
       "      <td>2</td>\n",
       "      <td>3</td>\n",
       "    </tr>\n",
       "  </tbody>\n",
       "</table>\n",
       "</div>"
      ],
      "text/plain": [
       "      Unnamed: 0  Value\n",
       "type                   \n",
       "a              0      4\n",
       "b              2      6\n",
       "c              2      3"
      ]
     },
     "execution_count": 12,
     "metadata": {},
     "output_type": "execute_result"
    }
   ],
   "source": [
    "df=pd.read_csv(STAGING_AREA)\n",
    "df.groupby('type').sum()"
   ]
  },
  {
   "cell_type": "markdown",
   "id": "f56e4cfc",
   "metadata": {},
   "source": [
    "**We have a problem**: Oh no, the CEO just called, he just got the report from yesterday and he's confused. He's really worried about the numbers for \"a\".\n",
    "\n",
    "Can you check whether these numbers are ok? \n",
    "\n",
    "**Problem**: No, not easily. Because we don't know the inputs for yesterday. After all, we just keep on dumping stuff into out staging area here and then run the same \"compute\" functionality. If we run the compute functionality, it returns what we have above. \n",
    "\n",
    "**Solution**: So let's see whether we can reorganize that into a \"DAG of tasks\" one where we know how to compute just one partition, and one partition with specific inputs!"
   ]
  },
  {
   "cell_type": "code",
   "execution_count": 18,
   "id": "12947db4",
   "metadata": {},
   "outputs": [],
   "source": [
    "### WIP: Need to load immutable based on input ;)) ### Not happening yet...\n",
    "def load_to_staging_area(filepath: str):\n",
    "    df = pd.read_csv(filepath)\n",
    "    df['source'] = filepath\n",
    "    from os.path import exists\n",
    "    df.to_csv(STAGING_AREA, mode=\"a\", header=\"False\") if os.path.exists(STAGING_AREA)  \\\n",
    "        else df.to_csv(STAGING_AREA) \n",
    "\n",
    "load_to_staging_area(DATA_FILE_PATH_1)"
   ]
  },
  {
   "cell_type": "code",
   "execution_count": 22,
   "id": "52c301f3",
   "metadata": {},
   "outputs": [
    {
     "data": {
      "text/plain": [
       "True"
      ]
     },
     "execution_count": 22,
     "metadata": {},
     "output_type": "execute_result"
    }
   ],
   "source": []
  }
 ],
 "metadata": {
  "kernelspec": {
   "display_name": "Python 3 (ipykernel)",
   "language": "python",
   "name": "python3"
  },
  "language_info": {
   "codemirror_mode": {
    "name": "ipython",
    "version": 3
   },
   "file_extension": ".py",
   "mimetype": "text/x-python",
   "name": "python",
   "nbconvert_exporter": "python",
   "pygments_lexer": "ipython3",
   "version": "3.9.7"
  }
 },
 "nbformat": 4,
 "nbformat_minor": 5
}
